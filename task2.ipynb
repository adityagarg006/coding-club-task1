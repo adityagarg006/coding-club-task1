{
 "cells": [
  {
   "cell_type": "code",
   "execution_count": 1,
   "id": "64909cbc-1f18-48f6-be20-b229e7afc004",
   "metadata": {},
   "outputs": [],
   "source": [
    "from dotenv import load_dotenv\n",
    "from langchain.chat_models import init_chat_model\n",
    "from pydantic import BaseModel, Field\n",
    "import requests, json\n",
    "from typing_extensions import TypedDict\n",
    "from typing import Annotated, Literal\n",
    "from langgraph.graph.message import add_messages\n",
    "from langgraph.graph import StateGraph, START, END\n",
    "from langchain.agents import create_tool_calling_agent, AgentExecutor\n",
    "from langchain_tavily import TavilySearch\n",
    "from langchain.schema import HumanMessage, AIMessage, BaseMessage\n",
    "from langchain.tools import tool\n",
    "from langchain.prompts import ChatPromptTemplate, MessagesPlaceholder\n",
    "import os"
   ]
  },
  {
   "cell_type": "markdown",
   "id": "02e2a9ab-f328-4408-93dc-7e0f3a71ed7b",
   "metadata": {},
   "source": [
    "Loading API Keys from .env and initialising Chat Model"
   ]
  },
  {
   "cell_type": "code",
   "execution_count": 2,
   "id": "d3ddde5e-8663-4eb0-a88e-b19de237cc2e",
   "metadata": {},
   "outputs": [],
   "source": [
    "load_dotenv()\n",
    "llm = init_chat_model(\"google_genai:gemini-2.0-flash\")"
   ]
  },
  {
   "cell_type": "markdown",
   "id": "eaeecdec-3eb3-4465-b605-6330788388c7",
   "metadata": {},
   "source": [
    "Defining a Class for messages structure that contains the content and message type (\"general\", \"weather\", \"calculator\",\"fashion\")"
   ]
  },
  {
   "cell_type": "code",
   "execution_count": 3,
   "id": "2b4ca9cc-6326-43d4-b786-0def0b3538a5",
   "metadata": {},
   "outputs": [],
   "source": [
    "class State(TypedDict):\n",
    "    messages: Annotated[list[BaseMessage], add_messages]\n",
    "    message_type: str | None\n"
   ]
  },
  {
   "cell_type": "markdown",
   "id": "e5b9e492-6f9f-456b-9bb3-c14dadd3745b",
   "metadata": {},
   "source": [
    "Assigning \"message_type\" as one of the four options"
   ]
  },
  {
   "cell_type": "code",
   "execution_count": 4,
   "id": "3c894495-f0b5-4c05-9f9e-2554f18a8ef3",
   "metadata": {},
   "outputs": [],
   "source": [
    "class MessageClassifier(BaseModel):\n",
    "    message_type: Literal[\"calculator\", \"weather\", \"fashion\", \"general\"] = Field(\n",
    "        ...,\n",
    "        description=\"Classify if the message asks for a general query, calculation of numbers, weather of a place, fashion trends of a location, or is a general greeting/question not requiring a specific tool.\"\n",
    "    )\n"
   ]
  },
  {
   "cell_type": "markdown",
   "id": "6ec7f3cb-c5f5-40db-aefb-4d8218613919",
   "metadata": {},
   "source": [
    "A function to classify the incoming message as calculator, weather,fashion or general based on the prompt provided"
   ]
  },
  {
   "cell_type": "code",
   "execution_count": 5,
   "id": "0c8baf13-7cc4-4d2a-93a3-71a56d156005",
   "metadata": {},
   "outputs": [],
   "source": [
    "def classify_message(state: State):\n",
    "    last_message = state[\"messages\"][-1]\n",
    "    classifier_llm = llm.with_structured_output(MessageClassifier)\n",
    "\n",
    "    result = classifier_llm.invoke([\n",
    "        {\"role\": \"system\", \"content\": \"\"\"Classify the message as either:\n",
    "        - 'calculator' : if the message contains performing arithemetic operations on a set of numbers\n",
    "        - 'weather' : if the message asks for weather or temperature of a place\n",
    "        - 'fashion' : if the message asks for the fashion trends of a place\n",
    "        - 'general' : if the message is a greeting (e.g., \"Hi\", \"Hello\"), a simple chat, or a question that does not require any specific tool usage (e.g., \"What is your name?\", \"How are you?\").\n",
    "\"\"\"},\n",
    "        {\"role\": \"user\", \"content\": last_message.content}\n",
    "    ])\n",
    "    return {\"message_type\": result.message_type, \"messages\": []}\n",
    "\n"
   ]
  },
  {
   "cell_type": "markdown",
   "id": "40ec36fa-f8f2-4771-b144-c9d37b52ca63",
   "metadata": {},
   "source": [
    "The output from classify_message is passed on to the router that sets the \"next\" property for a message to route it to the specific agent"
   ]
  },
  {
   "cell_type": "code",
   "execution_count": 6,
   "id": "d9b41f36-b791-45e4-a6b1-abd0e623f1ad",
   "metadata": {},
   "outputs": [],
   "source": [
    "def router(state: State):\n",
    "    message_type = state.get(\"message_type\", \"general\")\n",
    "    return {\"next\": message_type}"
   ]
  },
  {
   "cell_type": "markdown",
   "id": "56efe1a1-6bf6-4fa5-ba42-036cbdb6bbf1",
   "metadata": {},
   "source": [
    "Defining tool for the calculator agent that takes a string as input and returns the evaluated expression in float datatype by using the eval function"
   ]
  },
  {
   "cell_type": "code",
   "execution_count": 7,
   "id": "c2450c28-ed3b-43be-b0bd-962e7efc5f03",
   "metadata": {},
   "outputs": [],
   "source": [
    "@tool\n",
    "def arithmetic_bodmas(exp: str) -> float:\n",
    "    \"\"\"\n",
    "    Evaluating an arithmetic expression using bodmas consisting of '+','-','*','/','%','(',')','[',']','{','}','^'.\n",
    "    Replace ^ with **.\n",
    "    a%b represents the remainder when a is divided by b, the answer is always an integer.\n",
    "    \"\"\"\n",
    "    try:\n",
    "        exp = exp.replace('^', '**')\n",
    "        return eval(exp)\n",
    "    except Exception as e:\n",
    "        return f\"Error evaluating expression: {e}\""
   ]
  },
  {
   "cell_type": "markdown",
   "id": "a35322e6-381c-43d1-a8ba-5d590b59e451",
   "metadata": {},
   "source": [
    "Defining tool for weather agent that connects to an API and fetches the weather of a particular city, returns details of temperature, pressure and humidity"
   ]
  },
  {
   "cell_type": "code",
   "execution_count": 8,
   "id": "a32385e9-201b-4b4a-996d-3e8779b8b362",
   "metadata": {},
   "outputs": [],
   "source": [
    "@tool\n",
    "def weather_tool(city: str) -> str:\n",
    "    \"\"\"\n",
    "    Taking city name or location as string input and fetching the temperature, pressure, humidity and weather description.\n",
    "    \"\"\"\n",
    "    weather_api_key = os.environ.get(\"WEATHER_API_KEY\")\n",
    "    if not weather_api_key:\n",
    "        return \"Weather API key not found. Please set the 'WEATHER_API_KEY' environment variable.\"\n",
    "\n",
    "    base_url = \"http://api.openweathermap.org/data/2.5/weather?\"\n",
    "    complete_url = base_url + \"appid=\" + weather_api_key + \"&q=\" + city\n",
    "    \n",
    "    try:\n",
    "        response = requests.get(complete_url)\n",
    "        x = response.json()\n",
    "\n",
    "        if x[\"cod\"] != \"404\":\n",
    "            y = x[\"main\"]\n",
    "            current_temperature = y[\"temp\"]-273.15\n",
    "            current_pressure = y[\"pressure\"]\n",
    "            current_humidity = y[\"humidity\"]\n",
    "            z = x[\"weather\"]\n",
    "            weather_description = z[0][\"description\"]\n",
    "\n",
    "            return (f\"Temperature (in Celsius unit) = {current_temperature}\\n\"\n",
    "                    f\"Atmospheric pressure (in hPa unit) = {current_pressure}\\n\"\n",
    "                    f\"Humidity (in percentage) = {current_humidity}\\n\"\n",
    "                    f\"Description = {weather_description}\")\n",
    "        else:\n",
    "            return f\"City '{city}' not found or weather data unavailable.\"\n",
    "    except requests.exceptions.RequestException as e:\n",
    "        return f\"Error fetching weather data: {e}\"\n",
    "    except Exception as e:\n",
    "        return f\"An unexpected error occurred: {e}\"\n",
    "\n"
   ]
  },
  {
   "cell_type": "markdown",
   "id": "8b06cf60-9bfc-4e4b-8a38-86ed1accbfcf",
   "metadata": {},
   "source": [
    "Making a Calculator agent and binding it with \"arithmetic_bodmas\" ToolNode and also providing a System Prompt"
   ]
  },
  {
   "cell_type": "code",
   "execution_count": 9,
   "id": "af3826e2-6dc6-435a-851c-af2db6226bfb",
   "metadata": {},
   "outputs": [],
   "source": [
    "calculator_prompt = ChatPromptTemplate.from_messages([\n",
    "    (\"system\", \"\"\"You are a helpful assistant tasked with performing arithmetic operations based on the BODMAS rule.\n",
    "    When the user provides an arithmetic expression, you MUST use the `arithmetic_bodmas` tool to calculate the result.\n",
    "    Once you have the numerical result from the `arithmetic_bodmas` tool, provide this result directly and concisely as your FINAL ANSWER to the user.\n",
    "    DO NOT attempt to re-evaluate the expression or call the tool again after receiving the result.\"\"\"),\n",
    "    MessagesPlaceholder(variable_name=\"chat_history\"),\n",
    "    (\"user\", \"{input}\"),\n",
    "    MessagesPlaceholder(variable_name=\"agent_scratchpad\")\n",
    "])\n",
    "calculator_agent = create_tool_calling_agent(llm, [arithmetic_bodmas], calculator_prompt)\n",
    "calculator_executor = AgentExecutor(agent=calculator_agent, tools=[arithmetic_bodmas], verbose=False)\n"
   ]
  },
  {
   "cell_type": "markdown",
   "id": "942e090a-d41b-49e6-893c-831f08964ca7",
   "metadata": {},
   "source": [
    "Making a weather agent and binding it with \"weather_tool\" and providing a system prompt\n",
    "The API was getting called repeatedly so added \"DO NOT continue...\" in the prompt"
   ]
  },
  {
   "cell_type": "code",
   "execution_count": 10,
   "id": "f4f0b530-cce2-4a8e-9f6e-85d2a6d074aa",
   "metadata": {},
   "outputs": [],
   "source": [
    "weather_prompt = ChatPromptTemplate.from_messages([\n",
    "    (\"system\", \"\"\"You are a helpful assistant tasked with fetching the temperature, pressure, humidity, and weather description for a given city.\n",
    "    Once you have successfully retrieved the weather information using the 'weather_tool', provide a concise and direct answer to the user, summarizing the key weather details.\n",
    "    DO NOT continue to search or ask for more information once you have the weather data.\n",
    "    If you cannot find the weather for a city, clearly state that.\"\"\"),\n",
    "    MessagesPlaceholder(variable_name=\"chat_history\"),\n",
    "    (\"user\", \"{input}\"),\n",
    "    MessagesPlaceholder(variable_name=\"agent_scratchpad\")\n",
    "])\n",
    "weather_agent = create_tool_calling_agent(llm, [weather_tool], weather_prompt)\n",
    "weather_executor = AgentExecutor(agent=weather_agent, tools=[weather_tool], verbose=False)\n"
   ]
  },
  {
   "cell_type": "markdown",
   "id": "ea643551-6adf-4510-bb09-cbaa67d22947",
   "metadata": {},
   "source": [
    "Making a Tavily search tool from the TavilySearch API and binding it with the fashion_agent agent with a System Prompt"
   ]
  },
  {
   "cell_type": "code",
   "execution_count": 11,
   "id": "050f66c7-1059-455b-b6f0-7407fe5d08e9",
   "metadata": {},
   "outputs": [],
   "source": [
    "tavily_search_tool = TavilySearch(\n",
    "    max_results=5,\n",
    "    topic=\"general\",\n",
    ")   \n",
    "\n",
    "fashion_prompt = ChatPromptTemplate.from_messages([\n",
    "    (\"system\", \"\"\"You are a highly knowledgeable fashion trend analyst. Your goal is to provide the user with real-time, global fashion trends.\n",
    "\n",
    "To achieve this, you MUST use the `tavily_search_tool` to search for the latest and most relevant fashion trends.\n",
    "\n",
    "When searching, prioritize terms like:\n",
    "- \"current fashion trends\"\n",
    "- \"latest fashion styles\"\n",
    "- \"global fashion trends [year/season, e.g., 2025 trends, Summer 2025 fashion]\"\n",
    "- \"what's trending in fashion right now\"\n",
    "\n",
    "If the user specifies a particular region or city (e.g., \"fashion trends in Paris,\" \"what's trending in London fashion\"), incorporate that location into your search queries. If no location is specified, assume the user is interested in **global** or **general** real-time trends.\n",
    "\n",
    "After performing the search, synthesize the information from the search results into a concise and informative summary of the top 3-5 major fashion trends. Focus on:\n",
    "- Key clothing items or silhouettes\n",
    "- Popular colors or patterns\n",
    "- Emerging styles or influences\n",
    "\n",
    "DO NOT simply list raw search results. Provide a clear, well-structured, and easy-to-understand overview.\n",
    "\n",
    "If you are unable to find sufficient information, politely inform the user that current global fashion trend data is limited or unavailable, and suggest trying a more specific query.\n",
    "\n",
    "You MUST provide a final answer based on your search results. DO NOT ask follow-up questions about what trends the user is interested in unless explicitly asked.\"\"\"),\n",
    "    MessagesPlaceholder(variable_name=\"chat_history\"), \n",
    "    (\"user\", \"{input}\"),\n",
    "    MessagesPlaceholder(variable_name=\"agent_scratchpad\")\n",
    "])\n",
    "fashion_agent = create_tool_calling_agent(llm, [tavily_search_tool], fashion_prompt)\n",
    "fashion_executor = AgentExecutor(agent=fashion_agent, tools=[tavily_search_tool], verbose=False)\n",
    "\n"
   ]
  },
  {
   "cell_type": "markdown",
   "id": "46416b13-40ac-4f6a-9e31-f9f9126ef181",
   "metadata": {},
   "source": [
    "Making Nodes for agent calls for each of calculator, fashion, weather and general"
   ]
  },
  {
   "cell_type": "code",
   "execution_count": null,
   "id": "6a14985f-6d2b-4bfe-819d-8453e5eb2e77",
   "metadata": {},
   "outputs": [],
   "source": [
    "def call_calculator_agent(state: State):\n",
    "    last_message = state[\"messages\"][-1].content\n",
    "    chat_history = state[\"messages\"][:-1]\n",
    "    \n",
    "    result = calculator_executor.invoke({\n",
    "        \"input\": last_message,\n",
    "        \"chat_history\": chat_history \n",
    "    })\n",
    "    if result and result.get(\"output\"):\n",
    "        return {\"messages\": [AIMessage(content=result[\"output\"])]}\n",
    "    return {\"messages\": []}"
   ]
  },
  {
   "cell_type": "code",
   "execution_count": 13,
   "id": "cab03783-3b32-4d54-85f6-6596c87be71b",
   "metadata": {},
   "outputs": [],
   "source": [
    "def call_weather_agent(state: State):\n",
    "    last_message = state[\"messages\"][-1].content\n",
    "    chat_history = state[\"messages\"][:-1]\n",
    "    \n",
    "    result = weather_executor.invoke({\n",
    "        \"input\": last_message,\n",
    "        \"chat_history\": chat_history\n",
    "    })\n",
    "    if result and result.get(\"output\"):\n",
    "        return {\"messages\": [AIMessage(content=result[\"output\"])]}\n",
    "    return {\"messages\": []}\n"
   ]
  },
  {
   "cell_type": "code",
   "execution_count": 14,
   "id": "0beff0ff-73e6-41a7-bd6a-69b97e681353",
   "metadata": {},
   "outputs": [],
   "source": [
    "def call_fashion_agent(state: State):\n",
    "    last_message = state[\"messages\"][-1].content\n",
    "    chat_history = state[\"messages\"][:-1]\n",
    "    \n",
    "    result = fashion_executor.invoke({\n",
    "        \"input\": last_message,\n",
    "        \"chat_history\": chat_history\n",
    "    })\n",
    "    if result and result.get(\"output\"):\n",
    "        return {\"messages\": [AIMessage(content=result[\"output\"])]}\n",
    "    return {\"messages\": []}\n"
   ]
  },
  {
   "cell_type": "code",
   "execution_count": 15,
   "id": "f8f37c28-fa32-42b8-8997-fd62dcdbf92d",
   "metadata": {},
   "outputs": [],
   "source": [
    "def handle_general_query(state: State):\n",
    "    general_response = llm.invoke(state[\"messages\"]) \n",
    "    return {\"messages\": [AIMessage(content=general_response.content)]}\n"
   ]
  },
  {
   "cell_type": "markdown",
   "id": "d252de82-b403-4f8c-b723-c6cba32ac9c8",
   "metadata": {},
   "source": [
    "Building a Graph\n",
    "start -> classifier -> router -> calculator | weather | fashion | general -> end"
   ]
  },
  {
   "cell_type": "code",
   "execution_count": 16,
   "id": "8cdd0cf5-6303-4d03-87a1-8b6e9b5e5305",
   "metadata": {},
   "outputs": [],
   "source": [
    "graph_builder = StateGraph(State)\n",
    "graph_builder.add_node(\"classifier\", classify_message)\n",
    "graph_builder.add_node(\"router\", router)\n",
    "graph_builder.add_node(\"calculator\", call_calculator_agent)\n",
    "graph_builder.add_node(\"weather\", call_weather_agent)\n",
    "graph_builder.add_node(\"fashion\", call_fashion_agent)\n",
    "graph_builder.add_node(\"general\", handle_general_query)\n",
    "\n",
    "\n",
    "graph_builder.add_edge(START, \"classifier\")\n",
    "graph_builder.add_edge(\"classifier\", \"router\")\n",
    "\n",
    "graph_builder.add_conditional_edges(\n",
    "    \"router\",\n",
    "    lambda x: x[\"next\"],\n",
    "    {\n",
    "        \"calculator\": \"calculator\",\n",
    "        \"weather\": \"weather\",\n",
    "        \"fashion\": \"fashion\",\n",
    "        \"general\": \"general\"\n",
    "    }\n",
    ")\n",
    "\n",
    "graph_builder.add_edge(\"calculator\", END)\n",
    "graph_builder.add_edge(\"weather\", END)\n",
    "graph_builder.add_edge(\"fashion\", END)\n",
    "graph_builder.add_edge(\"general\", END)\n",
    "\n",
    "\n",
    "graph = graph_builder.compile()"
   ]
  },
  {
   "cell_type": "code",
   "execution_count": 17,
   "id": "556b4a8c-e677-4e62-82e8-134b09554ad5",
   "metadata": {},
   "outputs": [
    {
     "data": {
      "image/png": "[encoded data removed]",
      "text/plain": [
       "<IPython.core.display.Image object>"
      ]
     },
     "metadata": {},
     "output_type": "display_data"
    }
   ],
   "source": [
    "from IPython.display import Image, display\n",
    "\n",
    "try:\n",
    "    display(Image(graph.get_graph(xray=True).draw_mermaid_png()))\n",
    "except Exception as e:\n",
    "    print(\"Error during graph printing:\", e)\n",
    "    pass\n"
   ]
  },
  {
   "cell_type": "markdown",
   "id": "1e9af851-d494-4b48-96bb-99faa5f096f0",
   "metadata": {},
   "source": [
    "Taking user input and processing graph invocation with the past message history kept in memory, until the user query says \"exit\""
   ]
  },
  {
   "cell_type": "code",
   "execution_count": 18,
   "id": "dee35386-829d-4dae-803c-5459b97ad921",
   "metadata": {},
   "outputs": [
    {
     "name": "stdout",
     "output_type": "stream",
     "text": [
      "You:  Hi, I am Aditya Garg\n"
     ]
    },
    {
     "name": "stdout",
     "output_type": "stream",
     "text": [
      "Assistant: Hi Aditya Garg! It's nice to meet you. How can I help you today?\n"
     ]
    },
    {
     "name": "stdout",
     "output_type": "stream",
     "text": [
      "You:  Can you evaluate 2*5+10/2-2^4/2\n"
     ]
    },
    {
     "name": "stdout",
     "output_type": "stream",
     "text": [
      "Assistant: 7\n",
      "\n"
     ]
    },
    {
     "name": "stdout",
     "output_type": "stream",
     "text": [
      "You:  Great! What is the weather in Guwahati right now?\n"
     ]
    },
    {
     "name": "stdout",
     "output_type": "stream",
     "text": [
      "Assistant: The weather in Guwahati is currently misty with a temperature of 26.95 degrees Celsius, atmospheric pressure of 1005 hPa, and humidity of 89%.\n",
      "\n"
     ]
    },
    {
     "name": "stdout",
     "output_type": "stream",
     "text": [
      "You:  Can you tell me about the current fashion trends in New York?\n"
     ]
    },
    {
     "name": "stdout",
     "output_type": "stream",
     "text": [
      "Assistant: Based on my search, here are some current fashion trends in New York:\n",
      "\n",
      "*   **Elevated basics and tailored outerwear:** These were prominent during New York Fashion Week.\n",
      "*   **Monochromatic Separates:** These were also a key part of the collections shown during Fashion Week.\n",
      "*   **Y2K-inspired accessories:** Sunglasses and handbags are showing futuristic silhouettes and metallic materials.\n",
      "*   **Loafers, peplum tops, and chunky sneakers:** These are being spotted on the streets of New York City.\n",
      "*   **Flats and kitten heels:** Seen during New York Fashion Week.\n"
     ]
    },
    {
     "name": "stdout",
     "output_type": "stream",
     "text": [
      "You:  Oh Nice...do you remember my name?\n"
     ]
    },
    {
     "name": "stdout",
     "output_type": "stream",
     "text": [
      "Assistant: Yes, Aditya Garg. I remember your name.\n"
     ]
    },
    {
     "name": "stdout",
     "output_type": "stream",
     "text": [
      "You:  What expression did I give you to evaluate?\n"
     ]
    },
    {
     "name": "stdout",
     "output_type": "stream",
     "text": [
      "Assistant: You asked me to evaluate the expression `2*5+10/2-2^4/2`.\n"
     ]
    },
    {
     "name": "stdout",
     "output_type": "stream",
     "text": [
      "You:  Which city's weather did you fetch me?\n"
     ]
    },
    {
     "name": "stdout",
     "output_type": "stream",
     "text": [
      "Assistant: The weather in Guwahati: Temperature is 26.95 degrees Celsius, atmospheric pressure is 1005 hPa, humidity is 89%, and the description is mist.\n",
      "\n"
     ]
    },
    {
     "name": "stdout",
     "output_type": "stream",
     "text": [
      "You:  exit\n"
     ]
    },
    {
     "name": "stdout",
     "output_type": "stream",
     "text": [
      "Goodbye!\n"
     ]
    }
   ],
   "source": [
    "def run_chatbot():\n",
    "    state = {\"messages\": []}\n",
    "\n",
    "    while(True):\n",
    "        user_input = input(\"You: \")\n",
    "        if user_input.lower() == \"exit\":\n",
    "            print(\"Goodbye!\")\n",
    "            break\n",
    "        \n",
    "        state[\"messages\"].append(HumanMessage(content=user_input))\n",
    "        \n",
    "        try:\n",
    "            final_state = graph.invoke(state)\n",
    "            \n",
    "            if final_state.get(\"messages\") and isinstance(final_state[\"messages\"][-1], AIMessage):\n",
    "                print(f\"Assistant: {final_state['messages'][-1].content}\")\n",
    "            else:\n",
    "                print(\"Assistant: No response generated or unexpected message format.\")\n",
    "\n",
    "        except Exception as e:\n",
    "            print(f\"Error during graph invocation: {e}\")\n",
    "            print(f\"Current State before error: {state}\")\n",
    "            \n",
    "run_chatbot()"
   ]
  },
  {
   "cell_type": "code",
   "execution_count": null,
   "id": "6d3d562d-1053-455b-b9a4-655a86b625c2",
   "metadata": {},
   "outputs": [],
   "source": []
  }
 ],
 "metadata": {
  "kernelspec": {
   "display_name": "Python 3 (ipykernel)",
   "language": "python",
   "name": "python3"
  },
  "language_info": {
   "codemirror_mode": {
    "name": "ipython",
    "version": 3
   },
   "file_extension": ".py",
   "mimetype": "text/x-python",
   "name": "python",
   "nbconvert_exporter": "python",
   "pygments_lexer": "ipython3",
   "version": "3.13.2"
  }
 },
 "nbformat": 4,
 "nbformat_minor": 5
}
